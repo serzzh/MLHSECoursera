{
 "cells": [
  {
   "cell_type": "code",
   "execution_count": 220,
   "metadata": {
    "collapsed": true
   },
   "outputs": [],
   "source": [
    "import pandas\n",
    "import numpy as np\n",
    "import sklearn\n",
    "from sklearn.ensemble import RandomForestRegressor\n",
    "from sklearn.ensemble import RandomForestClassifier\n",
    "from sklearn.cross_validation import KFold\n",
    "from sklearn.metrics import r2_score\n",
    "from sklearn.cross_validation import cross_val_score"
   ]
  },
  {
   "cell_type": "markdown",
   "metadata": {},
   "source": [
    "# 1. Random Forest"
   ]
  },
  {
   "cell_type": "code",
   "execution_count": 53,
   "metadata": {
    "collapsed": true
   },
   "outputs": [],
   "source": [
    "#    Загрузите данные из файла abalone.csv. Это датасет, в котором требуется предсказать \n",
    "#возраст ракушки (число колец) по физическим измерениям.\n",
    "data = pandas.read_csv(\"abalone.csv\")"
   ]
  },
  {
   "cell_type": "markdown",
   "metadata": {},
   "source": [
    "\n",
    "    Определите, при каком минимальном количестве деревьев случайный лес показывает качество на кросс-валидации выше 0.52. Это количество и будет ответом на задание.\n",
    "    Обратите внимание на изменение качества по мере роста числа деревьев. Ухудшается ли оно?"
   ]
  },
  {
   "cell_type": "code",
   "execution_count": 54,
   "metadata": {
    "collapsed": true
   },
   "outputs": [],
   "source": [
    "#Преобразуйте признак Sex в числовой: значение F должно перейти в -1, I — в 0, M — в 1.\n",
    "data['Sex'] = data['Sex'].map(lambda x: 1 if x == 'M' else (-1 if x == 'F' else 0))"
   ]
  },
  {
   "cell_type": "code",
   "execution_count": 55,
   "metadata": {
    "collapsed": false
   },
   "outputs": [],
   "source": [
    "#Разделите содержимое файлов на признаки и целевую переменную. \n",
    "#В последнем столбце записана целевая переменная, в остальных — признаки.\n",
    "X=data[list(data.columns)[:-1]]\n",
    "y=data[list(data.columns)[-1]]"
   ]
  },
  {
   "cell_type": "code",
   "execution_count": 34,
   "metadata": {
    "collapsed": false
   },
   "outputs": [
    {
     "name": "stdout",
     "output_type": "stream",
     "text": [
      "24\n",
      "0.520449347402\n"
     ]
    }
   ],
   "source": [
    "#Обучите случайный лес (sklearn.ensemble.RandomForestRegressor) с различным числом деревьев: от 1 до 50 \n",
    "#(не забудьте выставить \"random_state=1\" в конструкторе).\n",
    "#Для каждого из вариантов оцените качество работы полученного леса на кросс-валидации по 5 блокам. \n",
    "#Используйте параметры \"random_state=1\" и \"shuffle=True\" при создании генератора кросс-валидации \n",
    "#sklearn.cross_validation.KFold. В качестве меры качества воспользуйтесь долей правильных ответов \n",
    "#(sklearn.metrics.r2_score).\n",
    "#Определите, при каком минимальном количестве деревьев случайный лес показывает качество \n",
    "#на кросс-валидации выше 0.52. Это количество и будет ответом на задание.\n",
    "#Обратите внимание на изменение качества по мере роста числа деревьев. Ухудшается ли оно?\n",
    "kf = KFold(len(X), n_folds=5, shuffle=True, random_state=1)\n",
    "for i in range(1,51):\n",
    "    clf = RandomForestRegressor(n_estimators=i, random_state=1)\n",
    "    clf.fit(X, y)\n",
    "    acc=cross_val_score(clf, X, y, cv=kf, scoring='r2').mean()\n",
    "    max_acc=0\n",
    "    max_i=0\n",
    "    if max_acc<acc:\n",
    "        max_acc=acc;\n",
    "        max_i=i\n",
    "    if max_acc>=0.52:\n",
    "        print max_i\n",
    "        print max_acc\n",
    "        break"
   ]
  },
  {
   "cell_type": "markdown",
   "metadata": {},
   "source": [
    "# 2. Gradient Boosting"
   ]
  },
  {
   "cell_type": "code",
   "execution_count": 56,
   "metadata": {
    "collapsed": true
   },
   "outputs": [],
   "source": [
    "from sklearn.cross_validation import train_test_split\n",
    "from sklearn.ensemble import GradientBoostingClassifier\n",
    "from sklearn.metrics import log_loss"
   ]
  },
  {
   "cell_type": "markdown",
   "metadata": {},
   "source": [
    "1 Загрузите выборку из файла gbm-data.csv с помощью pandas и преобразуйте ее в массив numpy (параметр values у датафрейма). В первой колонке файла с данными записано, была или нет реакция. Все остальные колонки (d1 - d1776) содержат различные характеристики молекулы, такие как размер, форма и т.д. Разбейте выборку на обучающую и тестовую, используя функцию train_test_split с параметрами test_size = 0.8 и random_state = 241."
   ]
  },
  {
   "cell_type": "code",
   "execution_count": 57,
   "metadata": {
    "collapsed": false
   },
   "outputs": [],
   "source": [
    "data = pandas.read_csv(\"gbm-data.csv\")\n",
    "X = data[list(data.columns)[1:]]\n",
    "y = data[list(data.columns)[0]]\n",
    "X_train, X_test, y_train, y_test = train_test_split(X, y, test_size=0.8, random_state=241)"
   ]
  },
  {
   "cell_type": "markdown",
   "metadata": {},
   "source": [
    "2 Обучите GradientBoostingClassifier с параметрами n_estimators=250, verbose=True, random_state=241 и для каждого значения learning_rate из списка [1, 0.5, 0.3, 0.2, 0.1] проделайте следующее:\n",
    "\n",
    "    - Используйте метод staged_decision_function для предсказания качества на обучающей и тестовой выборке на каждой итерации.\n",
    "    - Преобразуйте полученное предсказание с помощью сигмоидной функции по формуле 1 / (1 + e^{−y_pred}), где y_pred — предсказаное значение.\n",
    "    - Вычислите и постройте график значений log-loss (которую можно посчитать с помощью функции sklearn.metrics.log_loss) на обучающей и тестовой выборках, а также найдите минимальное значение метрики и номер итерации, на которой оно достигается.\n",
    "\n"
   ]
  },
  {
   "cell_type": "code",
   "execution_count": 213,
   "metadata": {
    "collapsed": false
   },
   "outputs": [
    {
     "name": "stdout",
     "output_type": "stream",
     "text": [
      "      Iter       Train Loss   Remaining Time \n",
      "         1           1.2613            1.16m\n",
      "         2           1.1715            1.02m\n",
      "         3           1.1009           57.26s\n",
      "         4           1.0529           54.19s\n",
      "         5           1.0130           51.61s\n",
      "         6           0.9740           49.98s\n",
      "         7           0.9475           48.48s\n",
      "         8           0.9197           49.98s\n",
      "         9           0.8979           48.38s\n",
      "        10           0.8730           48.29s\n",
      "        20           0.7207           38.87s\n",
      "        30           0.6055           35.04s\n",
      "        40           0.5244           32.53s\n",
      "        50           0.4501           31.39s\n",
      "        60           0.3908           29.27s\n",
      "        70           0.3372           27.54s\n",
      "        80           0.3009           25.82s\n",
      "        90           0.2603           24.28s\n",
      "       100           0.2327           22.61s\n",
      "       200           0.0835            7.27s\n"
     ]
    }
   ],
   "source": [
    "rates = [1, 0.5, 0.3, 0.2, 0.1]\n",
    "rates = [0.2]\n",
    "loss_matrix=range(250)\n",
    "for rate in rates:\n",
    "    clf = GradientBoostingClassifier(n_estimators=250, verbose=True, random_state=241, learning_rate=rate)\n",
    "    clf.fit(X_train,y_train)\n",
    "    loss_test=[]\n",
    "    loss_train=[]\n",
    "    min_loss=1\n",
    "    i_min=0\n",
    "    for i, y_decision in enumerate(clf.staged_decision_function(X_test)):\n",
    "        y_pred = 1.0 / (1.0 + np.exp(-y_decision))\n",
    "        l = log_loss(y_test, y_pred)\n",
    "        loss_test.append(l)\n",
    "        if l<min_loss and rate==0.2:\n",
    "            min_loss=l\n",
    "            i_min=i\n",
    "    for i, y_decision in enumerate(clf.staged_decision_function(X_train)):\n",
    "        y_pred = 1.0 / (1.0 + np.exp(-y_decision))\n",
    "        lt = log_loss(y_train, y_pred)\n",
    "        loss_train.append(lt)\n",
    "\n",
    "    loss_matrix=np.vstack([loss_matrix,loss_test,loss_train])"
   ]
  },
  {
   "cell_type": "code",
   "execution_count": 212,
   "metadata": {
    "collapsed": false
   },
   "outputs": [
    {
     "data": {
      "text/plain": [
       "<matplotlib.legend.Legend at 0x109a0f410>"
      ]
     },
     "execution_count": 212,
     "metadata": {},
     "output_type": "execute_result"
    },
    {
     "data": {
      "image/png": "[encoded data removed]",
      "text/plain": [
       "<matplotlib.figure.Figure at 0x109c880d0>"
      ]
     },
     "metadata": {},
     "output_type": "display_data"
    }
   ],
   "source": [
    "import matplotlib.pyplot as plt\n",
    "%matplotlib inline\n",
    "plt.figure()\n",
    "plt.plot(loss_matrix[1], 'r', linewidth=2)\n",
    "plt.plot(loss_matrix[2], 'r', linewidth=1)\n",
    "plt.plot(loss_matrix[7], 'g', linewidth=2)\n",
    "plt.plot(loss_matrix[8], 'g', linewidth=1)\n",
    "plt.plot(loss_matrix[9], 'b', linewidth=2)\n",
    "plt.plot(loss_matrix[10], 'b', linewidth=1)\n",
    "plt.legend(['test', 'train'])"
   ]
  },
  {
   "cell_type": "markdown",
   "metadata": {},
   "source": [
    "3 Как можно охарактеризовать график качества на тестовой выборке, начиная с некоторой итерации: переобучение (overfitting) или недообучение (underfitting)? В ответе укажите одно из слов overfitting либо underfitting.\n",
    "\n",
    "4 Приведите минимальное значение log-loss на тестовой выборке и номер итерации, на котором оно достигается, при learning_rate = 0.2."
   ]
  },
  {
   "cell_type": "code",
   "execution_count": 216,
   "metadata": {
    "collapsed": false
   },
   "outputs": [
    {
     "name": "stdout",
     "output_type": "stream",
     "text": [
      "Overfitting\n"
     ]
    }
   ],
   "source": [
    "print \"Overfitting\""
   ]
  },
  {
   "cell_type": "code",
   "execution_count": 217,
   "metadata": {
    "collapsed": false
   },
   "outputs": [
    {
     "name": "stdout",
     "output_type": "stream",
     "text": [
      "0.530525556784\n",
      "36\n"
     ]
    }
   ],
   "source": [
    "print min_loss\n",
    "print i_min"
   ]
  },
  {
   "cell_type": "markdown",
   "metadata": {},
   "source": [
    "5 На этих же данных обучите RandomForestClassifier с количеством деревьев, равным количеству итераций, на котором достигается наилучшее качество у градиентного бустинга из предыдущего пункта, c random_state=241 и остальными параметрами по умолчанию. Какое значение log-loss на тесте получается у этого случайного леса? (Не забывайте, что предсказания нужно получать с помощью функции predict_proba. В данном случае брать сигмоиду от оценки вероятности класса не нужно)\n",
    "\n",
    "Обратите внимание, что, хотя в градиентного бустинге гораздо более слабые базовые алгоритмы, он выигрывает у случайного леса благодаря более \"направленной\" настройке — каждый следующий алгоритм исправляет ошибки имеющейся композиции. Также он обучается быстрее случайного леса благодаря использованию неглубоких деревьев. В то же время, случайный лес может показать более высокое качество при неограниченных ресурсах — так, он выиграет у градиентного бустинга на наших данных, если увеличить число деревьев до нескольких сотен (проверьте сами!)."
   ]
  },
  {
   "cell_type": "code",
   "execution_count": 221,
   "metadata": {
    "collapsed": false
   },
   "outputs": [
    {
     "data": {
      "text/plain": [
       "0.54096670564694682"
      ]
     },
     "execution_count": 221,
     "metadata": {},
     "output_type": "execute_result"
    }
   ],
   "source": [
    "rf = RandomForestClassifier(n_estimators=i_min, random_state=241)\n",
    "rf.fit(X_train, y_train)\n",
    "y_pred = rf.predict_proba(X_test)\n",
    "log_loss(y_test, y_pred)"
   ]
  },
  {
   "cell_type": "code",
   "execution_count": null,
   "metadata": {
    "collapsed": true
   },
   "outputs": [],
   "source": []
  }
 ],
 "metadata": {
  "kernelspec": {
   "display_name": "Python 2",
   "language": "python",
   "name": "python2"
  },
  "language_info": {
   "codemirror_mode": {
    "name": "ipython",
    "version": 2
   },
   "file_extension": ".py",
   "mimetype": "text/x-python",
   "name": "python",
   "nbconvert_exporter": "python",
   "pygments_lexer": "ipython2",
   "version": "2.7.10"
  }
 },
 "nbformat": 4,
 "nbformat_minor": 0
}
